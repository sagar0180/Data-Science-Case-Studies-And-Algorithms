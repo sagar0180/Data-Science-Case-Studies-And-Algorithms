{
 "cells": [
  {
   "cell_type": "code",
   "execution_count": 72,
   "metadata": {},
   "outputs": [],
   "source": [
    "# import liraries\n",
    "import pandas as pd\n",
    "import numpy as np\n",
    "import matplotlib.pyplot as plt\n",
    "import seaborn as sns"
   ]
  },
  {
   "cell_type": "code",
   "execution_count": 73,
   "metadata": {},
   "outputs": [],
   "source": [
    "import warnings\n",
    "warnings.filterwarnings('ignore')"
   ]
  },
  {
   "cell_type": "code",
   "execution_count": 74,
   "metadata": {
    "scrolled": true
   },
   "outputs": [
    {
     "name": "stdout",
     "output_type": "stream",
     "text": [
      "(15039, 11)\n"
     ]
    },
    {
     "data": {
      "text/html": [
       "<div>\n",
       "<style scoped>\n",
       "    .dataframe tbody tr th:only-of-type {\n",
       "        vertical-align: middle;\n",
       "    }\n",
       "\n",
       "    .dataframe tbody tr th {\n",
       "        vertical-align: top;\n",
       "    }\n",
       "\n",
       "    .dataframe thead th {\n",
       "        text-align: right;\n",
       "    }\n",
       "</style>\n",
       "<table border=\"1\" class=\"dataframe\">\n",
       "  <thead>\n",
       "    <tr style=\"text-align: right;\">\n",
       "      <th></th>\n",
       "      <th>AT</th>\n",
       "      <th>AP</th>\n",
       "      <th>AH</th>\n",
       "      <th>AFDP</th>\n",
       "      <th>GTEP</th>\n",
       "      <th>TIT</th>\n",
       "      <th>TAT</th>\n",
       "      <th>TEY</th>\n",
       "      <th>CDP</th>\n",
       "      <th>CO</th>\n",
       "      <th>NOX</th>\n",
       "    </tr>\n",
       "  </thead>\n",
       "  <tbody>\n",
       "    <tr>\n",
       "      <th>0</th>\n",
       "      <td>6.8594</td>\n",
       "      <td>1007.9</td>\n",
       "      <td>96.799</td>\n",
       "      <td>3.5000</td>\n",
       "      <td>19.663</td>\n",
       "      <td>1059.2</td>\n",
       "      <td>550.00</td>\n",
       "      <td>114.70</td>\n",
       "      <td>10.605</td>\n",
       "      <td>3.1547</td>\n",
       "      <td>82.722</td>\n",
       "    </tr>\n",
       "    <tr>\n",
       "      <th>1</th>\n",
       "      <td>6.7850</td>\n",
       "      <td>1008.4</td>\n",
       "      <td>97.118</td>\n",
       "      <td>3.4998</td>\n",
       "      <td>19.728</td>\n",
       "      <td>1059.3</td>\n",
       "      <td>550.00</td>\n",
       "      <td>114.72</td>\n",
       "      <td>10.598</td>\n",
       "      <td>3.2363</td>\n",
       "      <td>82.776</td>\n",
       "    </tr>\n",
       "    <tr>\n",
       "      <th>2</th>\n",
       "      <td>6.8977</td>\n",
       "      <td>1008.8</td>\n",
       "      <td>95.939</td>\n",
       "      <td>3.4824</td>\n",
       "      <td>19.779</td>\n",
       "      <td>1059.4</td>\n",
       "      <td>549.87</td>\n",
       "      <td>114.71</td>\n",
       "      <td>10.601</td>\n",
       "      <td>3.2012</td>\n",
       "      <td>82.468</td>\n",
       "    </tr>\n",
       "    <tr>\n",
       "      <th>3</th>\n",
       "      <td>7.0569</td>\n",
       "      <td>1009.2</td>\n",
       "      <td>95.249</td>\n",
       "      <td>3.4805</td>\n",
       "      <td>19.792</td>\n",
       "      <td>1059.6</td>\n",
       "      <td>549.99</td>\n",
       "      <td>114.72</td>\n",
       "      <td>10.606</td>\n",
       "      <td>3.1923</td>\n",
       "      <td>82.670</td>\n",
       "    </tr>\n",
       "    <tr>\n",
       "      <th>4</th>\n",
       "      <td>7.3978</td>\n",
       "      <td>1009.7</td>\n",
       "      <td>95.150</td>\n",
       "      <td>3.4976</td>\n",
       "      <td>19.765</td>\n",
       "      <td>1059.7</td>\n",
       "      <td>549.98</td>\n",
       "      <td>114.72</td>\n",
       "      <td>10.612</td>\n",
       "      <td>3.2484</td>\n",
       "      <td>82.311</td>\n",
       "    </tr>\n",
       "  </tbody>\n",
       "</table>\n",
       "</div>"
      ],
      "text/plain": [
       "       AT      AP      AH    AFDP    GTEP     TIT     TAT     TEY     CDP  \\\n",
       "0  6.8594  1007.9  96.799  3.5000  19.663  1059.2  550.00  114.70  10.605   \n",
       "1  6.7850  1008.4  97.118  3.4998  19.728  1059.3  550.00  114.72  10.598   \n",
       "2  6.8977  1008.8  95.939  3.4824  19.779  1059.4  549.87  114.71  10.601   \n",
       "3  7.0569  1009.2  95.249  3.4805  19.792  1059.6  549.99  114.72  10.606   \n",
       "4  7.3978  1009.7  95.150  3.4976  19.765  1059.7  549.98  114.72  10.612   \n",
       "\n",
       "       CO     NOX  \n",
       "0  3.1547  82.722  \n",
       "1  3.2363  82.776  \n",
       "2  3.2012  82.468  \n",
       "3  3.1923  82.670  \n",
       "4  3.2484  82.311  "
      ]
     },
     "execution_count": 74,
     "metadata": {},
     "output_type": "execute_result"
    }
   ],
   "source": [
    "# import dataset\n",
    "data=pd.read_csv('D:/DATA SCIENCE/1. Data Scientist/Assignment/15.Neural Networks/gas_turbines.csv')\n",
    "print(data.shape)\n",
    "data.head(5)"
   ]
  },
  {
   "cell_type": "code",
   "execution_count": 104,
   "metadata": {},
   "outputs": [
    {
     "data": {
      "text/plain": [
       "(15039, 11)"
      ]
     },
     "execution_count": 104,
     "metadata": {},
     "output_type": "execute_result"
    }
   ],
   "source": [
    "data.shape"
   ]
  },
  {
   "cell_type": "code",
   "execution_count": 75,
   "metadata": {},
   "outputs": [
    {
     "data": {
      "text/html": [
       "<div>\n",
       "<style scoped>\n",
       "    .dataframe tbody tr th:only-of-type {\n",
       "        vertical-align: middle;\n",
       "    }\n",
       "\n",
       "    .dataframe tbody tr th {\n",
       "        vertical-align: top;\n",
       "    }\n",
       "\n",
       "    .dataframe thead th {\n",
       "        text-align: right;\n",
       "    }\n",
       "</style>\n",
       "<table border=\"1\" class=\"dataframe\">\n",
       "  <thead>\n",
       "    <tr style=\"text-align: right;\">\n",
       "      <th></th>\n",
       "      <th>count</th>\n",
       "      <th>mean</th>\n",
       "      <th>std</th>\n",
       "      <th>min</th>\n",
       "      <th>25%</th>\n",
       "      <th>50%</th>\n",
       "      <th>75%</th>\n",
       "      <th>max</th>\n",
       "    </tr>\n",
       "  </thead>\n",
       "  <tbody>\n",
       "    <tr>\n",
       "      <th>AT</th>\n",
       "      <td>15039.0</td>\n",
       "      <td>17.764381</td>\n",
       "      <td>7.574323</td>\n",
       "      <td>0.522300</td>\n",
       "      <td>11.408000</td>\n",
       "      <td>18.1860</td>\n",
       "      <td>23.8625</td>\n",
       "      <td>34.9290</td>\n",
       "    </tr>\n",
       "    <tr>\n",
       "      <th>AP</th>\n",
       "      <td>15039.0</td>\n",
       "      <td>1013.199240</td>\n",
       "      <td>6.410760</td>\n",
       "      <td>985.850000</td>\n",
       "      <td>1008.900000</td>\n",
       "      <td>1012.8000</td>\n",
       "      <td>1016.9000</td>\n",
       "      <td>1034.2000</td>\n",
       "    </tr>\n",
       "    <tr>\n",
       "      <th>AH</th>\n",
       "      <td>15039.0</td>\n",
       "      <td>79.124174</td>\n",
       "      <td>13.793439</td>\n",
       "      <td>30.344000</td>\n",
       "      <td>69.750000</td>\n",
       "      <td>82.2660</td>\n",
       "      <td>90.0435</td>\n",
       "      <td>100.2000</td>\n",
       "    </tr>\n",
       "    <tr>\n",
       "      <th>AFDP</th>\n",
       "      <td>15039.0</td>\n",
       "      <td>4.200294</td>\n",
       "      <td>0.760197</td>\n",
       "      <td>2.087400</td>\n",
       "      <td>3.723900</td>\n",
       "      <td>4.1862</td>\n",
       "      <td>4.5509</td>\n",
       "      <td>7.6106</td>\n",
       "    </tr>\n",
       "    <tr>\n",
       "      <th>GTEP</th>\n",
       "      <td>15039.0</td>\n",
       "      <td>25.419061</td>\n",
       "      <td>4.173916</td>\n",
       "      <td>17.878000</td>\n",
       "      <td>23.294000</td>\n",
       "      <td>25.0820</td>\n",
       "      <td>27.1840</td>\n",
       "      <td>37.4020</td>\n",
       "    </tr>\n",
       "    <tr>\n",
       "      <th>TIT</th>\n",
       "      <td>15039.0</td>\n",
       "      <td>1083.798770</td>\n",
       "      <td>16.527806</td>\n",
       "      <td>1000.800000</td>\n",
       "      <td>1079.600000</td>\n",
       "      <td>1088.7000</td>\n",
       "      <td>1096.0000</td>\n",
       "      <td>1100.8000</td>\n",
       "    </tr>\n",
       "    <tr>\n",
       "      <th>TAT</th>\n",
       "      <td>15039.0</td>\n",
       "      <td>545.396183</td>\n",
       "      <td>7.866803</td>\n",
       "      <td>512.450000</td>\n",
       "      <td>542.170000</td>\n",
       "      <td>549.8900</td>\n",
       "      <td>550.0600</td>\n",
       "      <td>550.6100</td>\n",
       "    </tr>\n",
       "    <tr>\n",
       "      <th>TEY</th>\n",
       "      <td>15039.0</td>\n",
       "      <td>134.188464</td>\n",
       "      <td>15.829717</td>\n",
       "      <td>100.170000</td>\n",
       "      <td>127.985000</td>\n",
       "      <td>133.7800</td>\n",
       "      <td>140.8950</td>\n",
       "      <td>174.6100</td>\n",
       "    </tr>\n",
       "    <tr>\n",
       "      <th>CDP</th>\n",
       "      <td>15039.0</td>\n",
       "      <td>12.102353</td>\n",
       "      <td>1.103196</td>\n",
       "      <td>9.904400</td>\n",
       "      <td>11.622000</td>\n",
       "      <td>12.0250</td>\n",
       "      <td>12.5780</td>\n",
       "      <td>15.0810</td>\n",
       "    </tr>\n",
       "    <tr>\n",
       "      <th>CO</th>\n",
       "      <td>15039.0</td>\n",
       "      <td>1.972499</td>\n",
       "      <td>2.222206</td>\n",
       "      <td>0.000388</td>\n",
       "      <td>0.858055</td>\n",
       "      <td>1.3902</td>\n",
       "      <td>2.1604</td>\n",
       "      <td>44.1030</td>\n",
       "    </tr>\n",
       "    <tr>\n",
       "      <th>NOX</th>\n",
       "      <td>15039.0</td>\n",
       "      <td>68.190934</td>\n",
       "      <td>10.470586</td>\n",
       "      <td>27.765000</td>\n",
       "      <td>61.303500</td>\n",
       "      <td>66.6010</td>\n",
       "      <td>73.9355</td>\n",
       "      <td>119.8900</td>\n",
       "    </tr>\n",
       "  </tbody>\n",
       "</table>\n",
       "</div>"
      ],
      "text/plain": [
       "        count         mean        std          min          25%        50%  \\\n",
       "AT    15039.0    17.764381   7.574323     0.522300    11.408000    18.1860   \n",
       "AP    15039.0  1013.199240   6.410760   985.850000  1008.900000  1012.8000   \n",
       "AH    15039.0    79.124174  13.793439    30.344000    69.750000    82.2660   \n",
       "AFDP  15039.0     4.200294   0.760197     2.087400     3.723900     4.1862   \n",
       "GTEP  15039.0    25.419061   4.173916    17.878000    23.294000    25.0820   \n",
       "TIT   15039.0  1083.798770  16.527806  1000.800000  1079.600000  1088.7000   \n",
       "TAT   15039.0   545.396183   7.866803   512.450000   542.170000   549.8900   \n",
       "TEY   15039.0   134.188464  15.829717   100.170000   127.985000   133.7800   \n",
       "CDP   15039.0    12.102353   1.103196     9.904400    11.622000    12.0250   \n",
       "CO    15039.0     1.972499   2.222206     0.000388     0.858055     1.3902   \n",
       "NOX   15039.0    68.190934  10.470586    27.765000    61.303500    66.6010   \n",
       "\n",
       "            75%        max  \n",
       "AT      23.8625    34.9290  \n",
       "AP    1016.9000  1034.2000  \n",
       "AH      90.0435   100.2000  \n",
       "AFDP     4.5509     7.6106  \n",
       "GTEP    27.1840    37.4020  \n",
       "TIT   1096.0000  1100.8000  \n",
       "TAT    550.0600   550.6100  \n",
       "TEY    140.8950   174.6100  \n",
       "CDP     12.5780    15.0810  \n",
       "CO       2.1604    44.1030  \n",
       "NOX     73.9355   119.8900  "
      ]
     },
     "execution_count": 75,
     "metadata": {},
     "output_type": "execute_result"
    }
   ],
   "source": [
    "data.describe().transpose()"
   ]
  },
  {
   "cell_type": "code",
   "execution_count": 76,
   "metadata": {},
   "outputs": [
    {
     "data": {
      "text/plain": [
       "AT      12086\n",
       "AP        540\n",
       "AH      12637\n",
       "AFDP    11314\n",
       "GTEP     8234\n",
       "TIT       706\n",
       "TAT      2340\n",
       "TEY      4207\n",
       "CDP      3611\n",
       "CO      13096\n",
       "NOX     11996\n",
       "dtype: int64"
      ]
     },
     "execution_count": 76,
     "metadata": {},
     "output_type": "execute_result"
    }
   ],
   "source": [
    "data.nunique()"
   ]
  },
  {
   "cell_type": "code",
   "execution_count": 77,
   "metadata": {},
   "outputs": [
    {
     "data": {
      "text/plain": [
       "133.74    150\n",
       "133.78    148\n",
       "133.67    143\n",
       "133.76    142\n",
       "133.79    127\n",
       "         ... \n",
       "162.17      1\n",
       "144.30      1\n",
       "107.05      1\n",
       "169.61      1\n",
       "143.26      1\n",
       "Name: TEY, Length: 4207, dtype: int64"
      ]
     },
     "execution_count": 77,
     "metadata": {},
     "output_type": "execute_result"
    }
   ],
   "source": [
    "data['TEY'].value_counts()"
   ]
  },
  {
   "cell_type": "code",
   "execution_count": 78,
   "metadata": {},
   "outputs": [
    {
     "data": {
      "text/plain": [
       "Index(['AT', 'AP', 'AH', 'AFDP', 'GTEP', 'TIT', 'TAT', 'TEY', 'CDP', 'CO',\n",
       "       'NOX'],\n",
       "      dtype='object')"
      ]
     },
     "execution_count": 78,
     "metadata": {},
     "output_type": "execute_result"
    }
   ],
   "source": [
    "data.columns.transpose()"
   ]
  },
  {
   "cell_type": "code",
   "execution_count": 79,
   "metadata": {},
   "outputs": [],
   "source": [
    "#Histogram for the given dataset"
   ]
  },
  {
   "cell_type": "code",
   "execution_count": 80,
   "metadata": {},
   "outputs": [
    {
     "data": {
      "text/plain": [
       "array([[<AxesSubplot:title={'center':'AT'}>,\n",
       "        <AxesSubplot:title={'center':'AP'}>,\n",
       "        <AxesSubplot:title={'center':'AH'}>],\n",
       "       [<AxesSubplot:title={'center':'AFDP'}>,\n",
       "        <AxesSubplot:title={'center':'GTEP'}>,\n",
       "        <AxesSubplot:title={'center':'TIT'}>],\n",
       "       [<AxesSubplot:title={'center':'TAT'}>,\n",
       "        <AxesSubplot:title={'center':'TEY'}>,\n",
       "        <AxesSubplot:title={'center':'CDP'}>],\n",
       "       [<AxesSubplot:title={'center':'CO'}>,\n",
       "        <AxesSubplot:title={'center':'NOX'}>, <AxesSubplot:>]],\n",
       "      dtype=object)"
      ]
     },
     "execution_count": 80,
     "metadata": {},
     "output_type": "execute_result"
    },
    {
     "data": {
      "image/png": "[encoded data removed]",
      "text/plain": [
       "<Figure size 1296x720 with 12 Axes>"
      ]
     },
     "metadata": {
      "needs_background": "light"
     },
     "output_type": "display_data"
    }
   ],
   "source": [
    "data.hist(['AT', 'AP', 'AH', 'AFDP', 'GTEP', 'TIT', 'TAT', 'TEY', 'CDP', 'CO',\n",
    "       'NOX'], figsize=(18,10))"
   ]
  },
  {
   "cell_type": "code",
   "execution_count": 81,
   "metadata": {},
   "outputs": [
    {
     "data": {
      "text/plain": [
       "AT      0\n",
       "AP      0\n",
       "AH      0\n",
       "AFDP    0\n",
       "GTEP    0\n",
       "TIT     0\n",
       "TAT     0\n",
       "TEY     0\n",
       "CDP     0\n",
       "CO      0\n",
       "NOX     0\n",
       "dtype: int64"
      ]
     },
     "execution_count": 81,
     "metadata": {},
     "output_type": "execute_result"
    }
   ],
   "source": [
    "data.isnull().sum()"
   ]
  },
  {
   "cell_type": "code",
   "execution_count": 82,
   "metadata": {},
   "outputs": [],
   "source": [
    "# by using ANNOVA finding correlation"
   ]
  },
  {
   "cell_type": "code",
   "execution_count": 83,
   "metadata": {},
   "outputs": [],
   "source": [
    "def FunctionAnova(inpData, TargetVariable, ContinuousPredictorList):\n",
    "    from scipy.stats import f_oneway\n",
    "\n",
    "    # Creating an empty list of final selected predictors\n",
    "    SelectedPredictors=[]\n",
    "    \n",
    "    print('##### ANOVA Results ##### \\n')\n",
    "    for predictor in ContinuousPredictorList:\n",
    "        CategoryGroupLists=inpData.groupby(TargetVariable)[predictor].apply(list)\n",
    "        AnovaResults = f_oneway(*CategoryGroupLists)\n",
    "        \n",
    "        # If the ANOVA P-Value is <0.05, that means we reject H0\n",
    "        if (AnovaResults[1] < 0.05):\n",
    "            print(predictor, 'is correlated with', TargetVariable, '| P-Value:', AnovaResults[1])\n",
    "            SelectedPredictors.append(predictor)\n",
    "        else:\n",
    "            print(predictor, 'is NOT correlated with', TargetVariable, '| P-Value:', AnovaResults[1])\n",
    "    \n",
    "    return(SelectedPredictors)"
   ]
  },
  {
   "cell_type": "code",
   "execution_count": 84,
   "metadata": {},
   "outputs": [
    {
     "name": "stdout",
     "output_type": "stream",
     "text": [
      "##### ANOVA Results ##### \n",
      "\n",
      "AT is correlated with TEY | P-Value: 0.0\n",
      "AP is correlated with TEY | P-Value: 1.1112664214571114e-69\n",
      "AH is correlated with TEY | P-Value: 1.473842790763612e-74\n",
      "AFDP is correlated with TEY | P-Value: 0.0\n",
      "GTEP is correlated with TEY | P-Value: 0.0\n",
      "TIT is correlated with TEY | P-Value: 0.0\n",
      "TAT is correlated with TEY | P-Value: 0.0\n",
      "TEY is correlated with TEY | P-Value: 0.0\n",
      "CDP is correlated with TEY | P-Value: 0.0\n",
      "CO is correlated with TEY | P-Value: 0.0\n",
      "NOX is correlated with TEY | P-Value: 2.3051122227247104e-178\n"
     ]
    },
    {
     "data": {
      "text/plain": [
       "['AT', 'AP', 'AH', 'AFDP', 'GTEP', 'TIT', 'TAT', 'TEY', 'CDP', 'CO', 'NOX']"
      ]
     },
     "execution_count": 84,
     "metadata": {},
     "output_type": "execute_result"
    }
   ],
   "source": [
    "ContinuousVariables=['AT', 'AP', 'AH', 'AFDP', 'GTEP', 'TIT', 'TAT', 'TEY', 'CDP', 'CO',\n",
    "       'NOX']\n",
    "FunctionAnova(inpData=data, TargetVariable='TEY', ContinuousPredictorList=ContinuousVariables)"
   ]
  },
  {
   "cell_type": "code",
   "execution_count": 85,
   "metadata": {},
   "outputs": [],
   "source": [
    "#Defining X and Y"
   ]
  },
  {
   "cell_type": "code",
   "execution_count": 86,
   "metadata": {},
   "outputs": [],
   "source": [
    "X = data.drop('TEY',axis=1)\n",
    "y = data['TEY']"
   ]
  },
  {
   "cell_type": "code",
   "execution_count": 87,
   "metadata": {},
   "outputs": [
    {
     "data": {
      "text/html": [
       "<div>\n",
       "<style scoped>\n",
       "    .dataframe tbody tr th:only-of-type {\n",
       "        vertical-align: middle;\n",
       "    }\n",
       "\n",
       "    .dataframe tbody tr th {\n",
       "        vertical-align: top;\n",
       "    }\n",
       "\n",
       "    .dataframe thead th {\n",
       "        text-align: right;\n",
       "    }\n",
       "</style>\n",
       "<table border=\"1\" class=\"dataframe\">\n",
       "  <thead>\n",
       "    <tr style=\"text-align: right;\">\n",
       "      <th></th>\n",
       "      <th>AT</th>\n",
       "      <th>AP</th>\n",
       "      <th>AH</th>\n",
       "      <th>AFDP</th>\n",
       "      <th>GTEP</th>\n",
       "      <th>TIT</th>\n",
       "      <th>TAT</th>\n",
       "      <th>CDP</th>\n",
       "      <th>CO</th>\n",
       "      <th>NOX</th>\n",
       "    </tr>\n",
       "  </thead>\n",
       "  <tbody>\n",
       "    <tr>\n",
       "      <th>0</th>\n",
       "      <td>6.8594</td>\n",
       "      <td>1007.9</td>\n",
       "      <td>96.799</td>\n",
       "      <td>3.5000</td>\n",
       "      <td>19.663</td>\n",
       "      <td>1059.2</td>\n",
       "      <td>550.00</td>\n",
       "      <td>10.605</td>\n",
       "      <td>3.1547</td>\n",
       "      <td>82.722</td>\n",
       "    </tr>\n",
       "    <tr>\n",
       "      <th>1</th>\n",
       "      <td>6.7850</td>\n",
       "      <td>1008.4</td>\n",
       "      <td>97.118</td>\n",
       "      <td>3.4998</td>\n",
       "      <td>19.728</td>\n",
       "      <td>1059.3</td>\n",
       "      <td>550.00</td>\n",
       "      <td>10.598</td>\n",
       "      <td>3.2363</td>\n",
       "      <td>82.776</td>\n",
       "    </tr>\n",
       "    <tr>\n",
       "      <th>2</th>\n",
       "      <td>6.8977</td>\n",
       "      <td>1008.8</td>\n",
       "      <td>95.939</td>\n",
       "      <td>3.4824</td>\n",
       "      <td>19.779</td>\n",
       "      <td>1059.4</td>\n",
       "      <td>549.87</td>\n",
       "      <td>10.601</td>\n",
       "      <td>3.2012</td>\n",
       "      <td>82.468</td>\n",
       "    </tr>\n",
       "    <tr>\n",
       "      <th>3</th>\n",
       "      <td>7.0569</td>\n",
       "      <td>1009.2</td>\n",
       "      <td>95.249</td>\n",
       "      <td>3.4805</td>\n",
       "      <td>19.792</td>\n",
       "      <td>1059.6</td>\n",
       "      <td>549.99</td>\n",
       "      <td>10.606</td>\n",
       "      <td>3.1923</td>\n",
       "      <td>82.670</td>\n",
       "    </tr>\n",
       "    <tr>\n",
       "      <th>4</th>\n",
       "      <td>7.3978</td>\n",
       "      <td>1009.7</td>\n",
       "      <td>95.150</td>\n",
       "      <td>3.4976</td>\n",
       "      <td>19.765</td>\n",
       "      <td>1059.7</td>\n",
       "      <td>549.98</td>\n",
       "      <td>10.612</td>\n",
       "      <td>3.2484</td>\n",
       "      <td>82.311</td>\n",
       "    </tr>\n",
       "  </tbody>\n",
       "</table>\n",
       "</div>"
      ],
      "text/plain": [
       "       AT      AP      AH    AFDP    GTEP     TIT     TAT     CDP      CO  \\\n",
       "0  6.8594  1007.9  96.799  3.5000  19.663  1059.2  550.00  10.605  3.1547   \n",
       "1  6.7850  1008.4  97.118  3.4998  19.728  1059.3  550.00  10.598  3.2363   \n",
       "2  6.8977  1008.8  95.939  3.4824  19.779  1059.4  549.87  10.601  3.2012   \n",
       "3  7.0569  1009.2  95.249  3.4805  19.792  1059.6  549.99  10.606  3.1923   \n",
       "4  7.3978  1009.7  95.150  3.4976  19.765  1059.7  549.98  10.612  3.2484   \n",
       "\n",
       "      NOX  \n",
       "0  82.722  \n",
       "1  82.776  \n",
       "2  82.468  \n",
       "3  82.670  \n",
       "4  82.311  "
      ]
     },
     "execution_count": 87,
     "metadata": {},
     "output_type": "execute_result"
    }
   ],
   "source": [
    "X.head()"
   ]
  },
  {
   "cell_type": "code",
   "execution_count": 88,
   "metadata": {},
   "outputs": [
    {
     "data": {
      "text/plain": [
       "0    114.70\n",
       "1    114.72\n",
       "2    114.71\n",
       "3    114.72\n",
       "4    114.72\n",
       "Name: TEY, dtype: float64"
      ]
     },
     "execution_count": 88,
     "metadata": {},
     "output_type": "execute_result"
    }
   ],
   "source": [
    "y.head()"
   ]
  },
  {
   "cell_type": "code",
   "execution_count": 89,
   "metadata": {},
   "outputs": [],
   "source": [
    "#Splitting data to training and testing dataset"
   ]
  },
  {
   "cell_type": "code",
   "execution_count": 90,
   "metadata": {},
   "outputs": [],
   "source": [
    "from sklearn.model_selection import train_test_split\n",
    "X_train, X_test, y_train, y_test = train_test_split(X, y, test_size=0.3, random_state=4)"
   ]
  },
  {
   "cell_type": "code",
   "execution_count": 91,
   "metadata": {},
   "outputs": [],
   "source": [
    "#Standarization of data"
   ]
  },
  {
   "cell_type": "code",
   "execution_count": 92,
   "metadata": {},
   "outputs": [],
   "source": [
    "from sklearn.preprocessing import StandardScaler\n",
    "\n",
    "sc = StandardScaler()\n",
    "X_train = sc.fit_transform(X_train)\n",
    "X_test = sc.transform(X_test)"
   ]
  },
  {
   "cell_type": "code",
   "execution_count": 93,
   "metadata": {},
   "outputs": [],
   "source": [
    "from numpy.random import seed\n",
    "import tensorflow \n",
    "from keras.models import Sequential\n",
    "from keras.layers import Activation, Dense,Dropout\n",
    "from tensorflow.keras.layers.experimental import preprocessing"
   ]
  },
  {
   "cell_type": "code",
   "execution_count": 94,
   "metadata": {},
   "outputs": [],
   "source": [
    "def create_model(lyrs=[8], act='linear', opt='Adam', dr=0.0):\n",
    "    \n",
    "    # set random seed for reproducibility\n",
    "    seed(42)\n",
    "    tensorflow.random.set_seed(42)\n",
    "    \n",
    "    model = Sequential()\n",
    "    \n",
    "    # create first hidden layer\n",
    "    model.add(Dense(lyrs[0], input_dim=X_train.shape[-1], activation=act))\n",
    "    \n",
    "    # create additional hidden layers\n",
    "    for i in range(1,len(lyrs)):\n",
    "        model.add(Dense(lyrs[i], activation=act))\n",
    "    \n",
    "    # add dropout, default is none\n",
    "    model.add(Dropout(dr))\n",
    "    \n",
    "    # create output layer\n",
    "    model.add(Dense(1, activation='sigmoid'))  # output layer\n",
    "    \n",
    "    model.compile(loss='binary_crossentropy', optimizer=opt, metrics=['accuracy'])\n",
    "    \n",
    "    return model"
   ]
  },
  {
   "cell_type": "code",
   "execution_count": 95,
   "metadata": {},
   "outputs": [
    {
     "name": "stdout",
     "output_type": "stream",
     "text": [
      "(10527, 10)\n",
      "(10527,)\n",
      "(4512, 10)\n",
      "(4512,)\n"
     ]
    }
   ],
   "source": [
    "print(X_train.shape)\n",
    "print(y_train.shape)\n",
    "print(X_test.shape)\n",
    "print(y_test.shape)"
   ]
  },
  {
   "cell_type": "code",
   "execution_count": 96,
   "metadata": {},
   "outputs": [],
   "source": [
    "#Model Creation"
   ]
  },
  {
   "cell_type": "code",
   "execution_count": 97,
   "metadata": {},
   "outputs": [
    {
     "name": "stdout",
     "output_type": "stream",
     "text": [
      "Model: \"sequential_2\"\n",
      "_________________________________________________________________\n",
      "Layer (type)                 Output Shape              Param #   \n",
      "=================================================================\n",
      "dense_4 (Dense)              (None, 8)                 88        \n",
      "_________________________________________________________________\n",
      "dropout_2 (Dropout)          (None, 8)                 0         \n",
      "_________________________________________________________________\n",
      "dense_5 (Dense)              (None, 1)                 9         \n",
      "=================================================================\n",
      "Total params: 97\n",
      "Trainable params: 97\n",
      "Non-trainable params: 0\n",
      "_________________________________________________________________\n",
      "None\n"
     ]
    }
   ],
   "source": [
    "model = create_model()\n",
    "print(model.summary())"
   ]
  },
  {
   "cell_type": "code",
   "execution_count": 98,
   "metadata": {},
   "outputs": [],
   "source": [
    "#Training The Model"
   ]
  },
  {
   "cell_type": "code",
   "execution_count": 99,
   "metadata": {},
   "outputs": [],
   "source": [
    "model.compile(\n",
    "    optimizer=tensorflow.optimizers.Adam(learning_rate=0.1),\n",
    "    loss='mean_absolute_error')"
   ]
  },
  {
   "cell_type": "code",
   "execution_count": 100,
   "metadata": {},
   "outputs": [
    {
     "name": "stdout",
     "output_type": "stream",
     "text": [
      "Epoch 1/100\n",
      "264/264 [==============================] - 3s 4ms/step - loss: 133.3178 - val_loss: 133.5386\n",
      "Epoch 2/100\n",
      "264/264 [==============================] - 1s 2ms/step - loss: 133.3609 - val_loss: 133.5386\n",
      "Epoch 3/100\n",
      "264/264 [==============================] - 1s 2ms/step - loss: 133.5692 - val_loss: 133.5386\n",
      "Epoch 4/100\n",
      "264/264 [==============================] - 0s 2ms/step - loss: 132.9816 - val_loss: 133.5386\n",
      "Epoch 5/100\n",
      "264/264 [==============================] - 1s 2ms/step - loss: 133.2414 - val_loss: 133.5386\n",
      "Epoch 6/100\n",
      "264/264 [==============================] - 1s 2ms/step - loss: 133.4255 - val_loss: 133.5386\n",
      "Epoch 7/100\n",
      "264/264 [==============================] - 0s 2ms/step - loss: 133.0260 - val_loss: 133.5386\n",
      "Epoch 8/100\n",
      "264/264 [==============================] - 1s 2ms/step - loss: 133.1988 - val_loss: 133.5386\n",
      "Epoch 9/100\n",
      "264/264 [==============================] - 1s 2ms/step - loss: 132.9825 - val_loss: 133.5386\n",
      "Epoch 10/100\n",
      "264/264 [==============================] - 1s 3ms/step - loss: 133.2304 - val_loss: 133.5386\n",
      "Epoch 11/100\n",
      "264/264 [==============================] - 0s 2ms/step - loss: 133.1627 - val_loss: 133.5386\n",
      "Epoch 12/100\n",
      "264/264 [==============================] - 1s 2ms/step - loss: 133.1837 - val_loss: 133.5386\n",
      "Epoch 13/100\n",
      "264/264 [==============================] - 1s 2ms/step - loss: 133.0885 - val_loss: 133.5386\n",
      "Epoch 14/100\n",
      "264/264 [==============================] - 1s 2ms/step - loss: 132.9471 - val_loss: 133.5386\n",
      "Epoch 15/100\n",
      "264/264 [==============================] - 1s 2ms/step - loss: 133.0334 - val_loss: 133.5386\n",
      "Epoch 16/100\n",
      "264/264 [==============================] - 1s 2ms/step - loss: 133.2715 - val_loss: 133.5386\n",
      "Epoch 17/100\n",
      "264/264 [==============================] - 1s 2ms/step - loss: 133.4309 - val_loss: 133.5386\n",
      "Epoch 18/100\n",
      "264/264 [==============================] - 1s 2ms/step - loss: 132.9971 - val_loss: 133.5386\n",
      "Epoch 19/100\n",
      "264/264 [==============================] - 0s 2ms/step - loss: 133.1909 - val_loss: 133.5386\n",
      "Epoch 20/100\n",
      "264/264 [==============================] - 1s 2ms/step - loss: 133.1616 - val_loss: 133.5386\n",
      "Epoch 21/100\n",
      "264/264 [==============================] - 0s 2ms/step - loss: 133.1700 - val_loss: 133.5386\n",
      "Epoch 22/100\n",
      "264/264 [==============================] - 0s 2ms/step - loss: 133.1831 - val_loss: 133.5386\n",
      "Epoch 23/100\n",
      "264/264 [==============================] - 1s 2ms/step - loss: 133.3368 - val_loss: 133.5386\n",
      "Epoch 24/100\n",
      "264/264 [==============================] - 1s 2ms/step - loss: 133.2030 - val_loss: 133.5386\n",
      "Epoch 25/100\n",
      "264/264 [==============================] - 1s 2ms/step - loss: 132.9542 - val_loss: 133.5386\n",
      "Epoch 26/100\n",
      "264/264 [==============================] - 1s 3ms/step - loss: 133.1684 - val_loss: 133.5386\n",
      "Epoch 27/100\n",
      "264/264 [==============================] - 1s 3ms/step - loss: 133.0886 - val_loss: 133.5386\n",
      "Epoch 28/100\n",
      "264/264 [==============================] - 1s 2ms/step - loss: 133.2465 - val_loss: 133.5386\n",
      "Epoch 29/100\n",
      "264/264 [==============================] - 1s 2ms/step - loss: 133.1018 - val_loss: 133.5386\n",
      "Epoch 30/100\n",
      "264/264 [==============================] - 1s 2ms/step - loss: 133.3083 - val_loss: 133.5386\n",
      "Epoch 31/100\n",
      "264/264 [==============================] - 1s 2ms/step - loss: 132.9121 - val_loss: 133.5386\n",
      "Epoch 32/100\n",
      "264/264 [==============================] - 1s 2ms/step - loss: 133.2597 - val_loss: 133.5386\n",
      "Epoch 33/100\n",
      "264/264 [==============================] - 1s 2ms/step - loss: 132.9719 - val_loss: 133.5386\n",
      "Epoch 34/100\n",
      "264/264 [==============================] - 1s 2ms/step - loss: 133.0929 - val_loss: 133.5386\n",
      "Epoch 35/100\n",
      "264/264 [==============================] - 1s 2ms/step - loss: 133.2226 - val_loss: 133.5386\n",
      "Epoch 36/100\n",
      "264/264 [==============================] - 1s 2ms/step - loss: 133.0854 - val_loss: 133.5386\n",
      "Epoch 37/100\n",
      "264/264 [==============================] - 1s 2ms/step - loss: 133.3218 - val_loss: 133.5386\n",
      "Epoch 38/100\n",
      "264/264 [==============================] - 1s 2ms/step - loss: 133.1997 - val_loss: 133.5386\n",
      "Epoch 39/100\n",
      "264/264 [==============================] - 0s 2ms/step - loss: 133.1405 - val_loss: 133.5386\n",
      "Epoch 40/100\n",
      "264/264 [==============================] - 1s 2ms/step - loss: 132.9502 - val_loss: 133.5386\n",
      "Epoch 41/100\n",
      "264/264 [==============================] - 0s 2ms/step - loss: 133.3941 - val_loss: 133.5386\n",
      "Epoch 42/100\n",
      "264/264 [==============================] - 0s 2ms/step - loss: 133.3669 - val_loss: 133.5386\n",
      "Epoch 43/100\n",
      "264/264 [==============================] - 0s 2ms/step - loss: 132.7463 - val_loss: 133.5386\n",
      "Epoch 44/100\n",
      "264/264 [==============================] - 0s 2ms/step - loss: 133.2270 - val_loss: 133.5386\n",
      "Epoch 45/100\n",
      "264/264 [==============================] - 1s 2ms/step - loss: 133.5397 - val_loss: 133.5386\n",
      "Epoch 46/100\n",
      "264/264 [==============================] - 1s 2ms/step - loss: 132.6261 - val_loss: 133.5386\n",
      "Epoch 47/100\n",
      "264/264 [==============================] - 1s 2ms/step - loss: 133.2367 - val_loss: 133.5386\n",
      "Epoch 48/100\n",
      "264/264 [==============================] - 1s 2ms/step - loss: 133.3170 - val_loss: 133.5386\n",
      "Epoch 49/100\n",
      "264/264 [==============================] - 1s 2ms/step - loss: 133.2362 - val_loss: 133.5386\n",
      "Epoch 50/100\n",
      "264/264 [==============================] - 1s 2ms/step - loss: 133.1923 - val_loss: 133.5386\n",
      "Epoch 51/100\n",
      "264/264 [==============================] - 1s 2ms/step - loss: 133.2280 - val_loss: 133.5386\n",
      "Epoch 52/100\n",
      "264/264 [==============================] - 1s 2ms/step - loss: 133.6333 - val_loss: 133.5386\n",
      "Epoch 53/100\n",
      "264/264 [==============================] - 1s 2ms/step - loss: 133.0339 - val_loss: 133.5386\n",
      "Epoch 54/100\n",
      "264/264 [==============================] - 1s 3ms/step - loss: 132.9075 - val_loss: 133.5386\n",
      "Epoch 55/100\n",
      "264/264 [==============================] - 1s 3ms/step - loss: 133.1869 - val_loss: 133.5386\n",
      "Epoch 56/100\n",
      "264/264 [==============================] - 1s 3ms/step - loss: 133.2107 - val_loss: 133.5386\n",
      "Epoch 57/100\n",
      "264/264 [==============================] - 1s 3ms/step - loss: 133.4151 - val_loss: 133.5386\n",
      "Epoch 58/100\n",
      "264/264 [==============================] - 1s 2ms/step - loss: 133.4749 - val_loss: 133.5386\n",
      "Epoch 59/100\n",
      "264/264 [==============================] - 1s 2ms/step - loss: 133.3621 - val_loss: 133.5386\n",
      "Epoch 60/100\n",
      "264/264 [==============================] - 1s 2ms/step - loss: 133.1967 - val_loss: 133.5386\n",
      "Epoch 61/100\n",
      "264/264 [==============================] - 1s 2ms/step - loss: 133.1691 - val_loss: 133.5386\n",
      "Epoch 62/100\n",
      "264/264 [==============================] - 1s 2ms/step - loss: 133.3614 - val_loss: 133.5386\n",
      "Epoch 63/100\n",
      "264/264 [==============================] - 1s 2ms/step - loss: 133.1751 - val_loss: 133.5386\n",
      "Epoch 64/100\n",
      "264/264 [==============================] - 1s 2ms/step - loss: 133.2149 - val_loss: 133.5386\n",
      "Epoch 65/100\n",
      "264/264 [==============================] - 1s 2ms/step - loss: 133.1131 - val_loss: 133.5386\n",
      "Epoch 66/100\n",
      "264/264 [==============================] - 0s 2ms/step - loss: 133.5386 - val_loss: 133.5386\n",
      "Epoch 67/100\n",
      "264/264 [==============================] - 1s 2ms/step - loss: 133.2181 - val_loss: 133.5386\n",
      "Epoch 68/100\n",
      "264/264 [==============================] - 1s 2ms/step - loss: 133.4204 - val_loss: 133.5386\n",
      "Epoch 69/100\n",
      "264/264 [==============================] - 1s 2ms/step - loss: 132.9153 - val_loss: 133.5386\n",
      "Epoch 70/100\n",
      "264/264 [==============================] - 1s 2ms/step - loss: 133.1459 - val_loss: 133.5386\n",
      "Epoch 71/100\n",
      "264/264 [==============================] - 1s 2ms/step - loss: 133.0894 - val_loss: 133.5386\n",
      "Epoch 72/100\n",
      "264/264 [==============================] - 1s 2ms/step - loss: 133.1808 - val_loss: 133.5386\n",
      "Epoch 73/100\n",
      "264/264 [==============================] - 1s 2ms/step - loss: 133.0853 - val_loss: 133.5386\n",
      "Epoch 74/100\n",
      "264/264 [==============================] - 1s 2ms/step - loss: 133.1667 - val_loss: 133.5386\n",
      "Epoch 75/100\n",
      "264/264 [==============================] - 1s 2ms/step - loss: 133.2473 - val_loss: 133.5386\n",
      "Epoch 76/100\n",
      "264/264 [==============================] - 1s 2ms/step - loss: 133.2320 - val_loss: 133.5386\n",
      "Epoch 77/100\n",
      "264/264 [==============================] - 1s 2ms/step - loss: 133.6508 - val_loss: 133.5386\n",
      "Epoch 78/100\n",
      "264/264 [==============================] - 1s 2ms/step - loss: 133.0355 - val_loss: 133.5386\n",
      "Epoch 79/100\n",
      "264/264 [==============================] - 0s 2ms/step - loss: 133.1799 - val_loss: 133.5386\n",
      "Epoch 80/100\n",
      "264/264 [==============================] - 0s 2ms/step - loss: 133.2516 - val_loss: 133.5386\n",
      "Epoch 81/100\n",
      "264/264 [==============================] - 0s 2ms/step - loss: 133.1572 - val_loss: 133.5386\n",
      "Epoch 82/100\n",
      "264/264 [==============================] - 1s 2ms/step - loss: 132.9872 - val_loss: 133.5386\n",
      "Epoch 83/100\n",
      "264/264 [==============================] - 1s 2ms/step - loss: 133.1333 - val_loss: 133.5386\n",
      "Epoch 84/100\n",
      "264/264 [==============================] - 1s 3ms/step - loss: 133.6672 - val_loss: 133.5386\n",
      "Epoch 85/100\n",
      "264/264 [==============================] - 1s 2ms/step - loss: 133.1134 - val_loss: 133.5386\n",
      "Epoch 86/100\n",
      "264/264 [==============================] - 1s 2ms/step - loss: 133.1883 - val_loss: 133.5386\n",
      "Epoch 87/100\n",
      "264/264 [==============================] - 0s 2ms/step - loss: 133.0012 - val_loss: 133.5386\n",
      "Epoch 88/100\n",
      "264/264 [==============================] - 0s 2ms/step - loss: 133.1659 - val_loss: 133.5386\n",
      "Epoch 89/100\n",
      "264/264 [==============================] - 1s 2ms/step - loss: 133.4161 - val_loss: 133.5386\n",
      "Epoch 90/100\n",
      "264/264 [==============================] - 1s 2ms/step - loss: 133.3675 - val_loss: 133.5386\n",
      "Epoch 91/100\n",
      "264/264 [==============================] - 0s 2ms/step - loss: 133.2650 - val_loss: 133.5386\n",
      "Epoch 92/100\n",
      "264/264 [==============================] - 0s 2ms/step - loss: 133.3031 - val_loss: 133.5386\n",
      "Epoch 93/100\n",
      "264/264 [==============================] - 0s 2ms/step - loss: 133.1390 - val_loss: 133.5386\n",
      "Epoch 94/100\n",
      "264/264 [==============================] - 1s 2ms/step - loss: 132.9402 - val_loss: 133.5386\n",
      "Epoch 95/100\n",
      "264/264 [==============================] - 1s 2ms/step - loss: 133.1495 - val_loss: 133.5386\n",
      "Epoch 96/100\n",
      "264/264 [==============================] - 1s 2ms/step - loss: 133.4415 - val_loss: 133.5386\n",
      "Epoch 97/100\n",
      "264/264 [==============================] - 1s 2ms/step - loss: 132.8596 - val_loss: 133.5386\n",
      "Epoch 98/100\n",
      "264/264 [==============================] - 1s 2ms/step - loss: 132.9584 - val_loss: 133.5386\n",
      "Epoch 99/100\n",
      "264/264 [==============================] - 0s 2ms/step - loss: 133.3368 - val_loss: 133.5386\n",
      "Epoch 100/100\n",
      "264/264 [==============================] - 1s 2ms/step - loss: 132.8460 - val_loss: 133.5386\n"
     ]
    }
   ],
   "source": [
    "training = model.fit(X_train, y_train, epochs=100, batch_size=32, validation_split=0.2, verbose=1)"
   ]
  },
  {
   "cell_type": "code",
   "execution_count": 101,
   "metadata": {},
   "outputs": [],
   "source": [
    "test = model.fit(X_test, y_test, epochs=100, batch_size=32, validation_split=0.2, verbose=0)"
   ]
  },
  {
   "cell_type": "code",
   "execution_count": 102,
   "metadata": {},
   "outputs": [
    {
     "name": "stdout",
     "output_type": "stream",
     "text": [
      "         loss   val_loss\n",
      "0  133.169968  133.53862\n",
      "1  133.151398  133.53862\n",
      "2  133.151398  133.53862\n",
      "3  133.151413  133.53862\n",
      "4  133.151428  133.53862\n"
     ]
    }
   ],
   "source": [
    "training_df = pd.DataFrame(training.history)\n",
    "print(training_df.head())"
   ]
  },
  {
   "cell_type": "code",
   "execution_count": 103,
   "metadata": {},
   "outputs": [
    {
     "name": "stdout",
     "output_type": "stream",
     "text": [
      "         loss    val_loss\n",
      "0  133.159958  132.831589\n",
      "1  133.159943  132.831589\n",
      "2  133.160004  132.831589\n",
      "3  133.159988  132.831589\n",
      "4  133.160019  132.831589\n"
     ]
    }
   ],
   "source": [
    "test_df = pd.DataFrame(test.history)\n",
    "print(test_df.head())"
   ]
  }
 ],
 "metadata": {
  "kernelspec": {
   "display_name": "Python 3",
   "language": "python",
   "name": "python3"
  },
  "language_info": {
   "codemirror_mode": {
    "name": "ipython",
    "version": 3
   },
   "file_extension": ".py",
   "mimetype": "text/x-python",
   "name": "python",
   "nbconvert_exporter": "python",
   "pygments_lexer": "ipython3",
   "version": "3.8.5"
  }
 },
 "nbformat": 4,
 "nbformat_minor": 4
}
